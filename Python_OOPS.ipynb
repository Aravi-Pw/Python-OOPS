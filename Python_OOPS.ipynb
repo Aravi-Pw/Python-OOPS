{
  "nbformat": 4,
  "nbformat_minor": 0,
  "metadata": {
    "colab": {
      "provenance": []
    },
    "kernelspec": {
      "name": "python3",
      "display_name": "Python 3"
    },
    "language_info": {
      "name": "python"
    }
  },
  "cells": [
    {
      "cell_type": "markdown",
      "source": [
        "**PYTHON OOPS**"
      ],
      "metadata": {
        "id": "aIHFoaM0GgS7"
      }
    },
    {
      "cell_type": "markdown",
      "source": [
        "1. What is Object-Oriented Programming (OOP)+\n",
        "\n",
        "Object-Oriented Programming (OOP) is a programming paradigm based on the concept of objects, which are instances of classes. OOP allows for structuring programs using real-world concepts like inheritance, encapsulation, polymorphism, and abstraction.\n",
        "\n",
        "2. What is a class in OOP+\n",
        "\n",
        " class in OOP is a blueprint or template for creating objects. It defines the attributes (data/variables) and methods (functions) that objects created from the class will have.\n",
        "\n",
        "Key Features of a Class:\n",
        "Defines the structure and behavior of objects.\n",
        "Encapsulates data and methods into a single unit.\n",
        "Allows multiple objects to be created with the same structure but different values.\n",
        "\n",
        "3. What is an object in OOP+\n",
        "\n",
        "n object is an instance of a class. It represents a real-world entity with attributes (data) and methods (behavior) defined by its class.\n",
        "\n",
        "Key Characteristics of an Object:\n",
        "Has a state (stores data in attributes).\n",
        "Has behavior (performs actions using methods).\n",
        "Is unique (each object has its own set of values).\n",
        "Interacts with other objects in a program.\n",
        "\n",
        "4. What is the difference between abstraction and encapsulation+\n",
        "\n",
        "bstraction and encapsulation are two fundamental concepts in Object-Oriented Programming (OOP), but they serve different purposes. Abstraction is the process of hiding the implementation details of a class and exposing only the necessary functionalities. It helps reduce complexity by allowing users to focus on what an object does rather than how it does it. Abstraction is typically achieved through abstract classes and interfaces, ensuring that only relevant information is accessible while keeping the internal workings hidden.\n",
        "\n",
        "On the other hand, encapsulation is the technique of bundling data and methods that operate on that data into a single unit while restricting direct access to some details. It is primarily used for data protection and security, preventing unintended modifications. This is accomplished using private and protected access modifiers, along with getter and setter methods that control how data is accessed or modified.\n",
        "\n",
        "5. What are dunder methods in Python+\n",
        "\n",
        "Dunder methods, short for “double underscore methods”, are special methods in Python that have double underscores (__) before and after their names (e.g., __init__, __str__, __len__). These methods allow objects to interact with built-in Python functions and operators in an object-oriented way. They are also known as magic methods because they enable operator overloading, object initialization, string representation, and more.\n",
        "\n",
        "6.  Explain the concept of inheritance in OOP\n",
        "\n",
        "Inheritance is one of the core principles of Object-Oriented Programming (OOP) that allows a class (child/subclass) to inherit attributes and methods from another class (parent/superclass). This promotes code reusability, reduces redundancy, and enables a hierarchical relationship between classes.\n",
        "\n",
        "Key Features of Inheritance:\n",
        "Code Reusability – Instead of rewriting the same code in multiple classes, a child class can use the properties and methods of the parent class.\n",
        "Extensibility – New functionalities can be added to the child class without modifying the parent class.\n",
        "Hierarchy Representation – Objects are structured in a parent-child relationship, making the system more organized.\n",
        "\n",
        "7. What is polymorphism in OOP?\n",
        "Polymorphism is a key concept in Object-Oriented Programming (OOP) that allows objects of different classes to be treated as objects of a common superclass. It enables a single interface to be used for different data types, improving flexibility and scalability in code design. The term \"polymorphism\" means \"many forms\", referring to the ability of different objects to respond to the same method in their own way.\n",
        "\n",
        "8. How is encapsulation achieved in Python?\n",
        "\n",
        "Encapsulation is a fundamental concept in Object-Oriented Programming (OOP) that restricts direct access to data within a class and ensures that modifications happen only through controlled methods. This helps in data hiding, security, and modularity.\n",
        "\n",
        "How Encapsulation Is Achieved in Python?\n",
        "Python achieves encapsulation through access modifiers, which define how attributes and methods can be accessed outside the class.\n",
        "\n",
        "Public Members (variable) → Accessible from anywhere.\n",
        "Protected Members (_variable) → Indicated with a single underscore _; meant to be accessed within the class and its subclasses.\n",
        "Private Members (__variable) → Indicated with a double underscore __; can only be accessed within the class using name mangling (_ClassName__variable).\n",
        "\n",
        "9. What is a constructor in Python\n",
        "\n",
        "A constructor in Python is a special method that is automatically called when an object of a class is created. It is used to initialize attributes (instance variables) of the class. The constructor method in Python is named __init__() and is defined within a class.\n",
        "\n",
        "10. What are class and static methods in Python\n",
        "\n",
        "In Python, class methods and static methods are special types of methods that differ from instance methods. They are used when we want to work with the class itself rather than individual instances.\n",
        "\n",
        "Class Methods\n",
        "A class method is a method that operates on the class level rather than on instance objects. It receives the class (cls) as its first parameter and can modify class variables. It is defined using the @classmethod decorator.\n",
        "\n",
        "Static Methods (@staticmethod)\n",
        "A static method is a method that does not operate on instance variables (self) or class variables (cls). It behaves just like a normal function but belongs to a class. It is defined using the @staticmethod decorator.\n",
        "\n",
        "11. What is method overloading in Python\n",
        "\n",
        "Method Overloading refers to the ability to define multiple methods in the same class with the same name but different parameters. However, Python does not support traditional method overloading like other languages (such as Java or C++) because Python functions do not have explicit type signatures.\n",
        "\n",
        "12. What is method overriding in OOP\n",
        "\n",
        "Method Overriding is a feature in Object-Oriented Programming (OOP) where a subclass (child class) provides a specific implementation of a method that is already defined in its superclass (parent class). The overridden method in the child class must have the same name and parameters as the one in the parent class.\n",
        "\n",
        "13. What is a property decorator in Python\n",
        "\n",
        "The property decorator in Python is used to define a method as a getter, allowing it to be accessed like an attribute without parentheses. It is a way to implement encapsulation by controlling access to class attributes while keeping a clean and readable syntax.\n",
        "\n",
        "14. Why is polymorphism important in OOP\n",
        "\n",
        "Polymorphism in Object-Oriented Programming (OOP) allows objects of different classes to be treated as instances of the same superclass. It enables a single interface to represent multiple types, making the code more flexible, scalable, and maintainable.\n",
        "\n",
        "15. What is an abstract class in Python\n",
        "\n",
        "An abstract class in Python is a class that cannot be instantiated and is used as a blueprint for other classes. It defines methods that must be implemented by any subclass. Abstract classes are created using the ABC (Abstract Base Class) module from the abc package.\n",
        "\n",
        "16. What are the advantages of OOP\n",
        "\n",
        "Object-Oriented Programming (OOP) provides a structured approach to programming by organizing code into objects and classes. It promotes reusability, modularity, and maintainability, making software development more efficient. Below are the key advantages of OOP:\n",
        "\n",
        "Code Reusability – Inheritance allows code reuse, reducing redundancy.\n",
        "Encapsulation – Protects data by restricting direct access and using getters/setters.\n",
        "Abstraction – Hides complex implementation details and provides a simple interface.\n",
        "Polymorphism – Enables multiple implementations using the same function/method name.\n",
        "Improved Code Organization – Modular structure makes programs more readable and maintainable.\n",
        "Scalability & Maintainability – New features can be added without modifying existing code.\n",
        "Security – Encapsulation prevents unauthorized access to sensitive data.\n",
        "Multiple Design Patterns – Supports design patterns like Factory, Singleton, and Observer.\n",
        "Real-World Modeling – Maps objects to real-world entities, making development intuitive.\n",
        "Better Debugging & Testing – Code is easier to test and debug due to modularity.\n",
        "\n",
        "17. What is the difference between a class variable and an instance variable\n",
        "\n",
        "Definition:\n",
        "\n",
        "Class Variable: A variable shared across all instances of a class.\n",
        "Instance Variable: A variable unique to each object (instance) of a class.\n",
        "Declaration:\n",
        "\n",
        "Class Variable: Defined outside methods and usually at the class level.\n",
        "Instance Variable: Defined inside the constructor (__init__) or other instance methods using self.\n",
        "Scope & Access:\n",
        "\n",
        "Class Variable: Shared by all instances; changing it affects all instances.\n",
        "Instance Variable: Specific to each object; changing it affects only that object.\n",
        "Modification:\n",
        "\n",
        "Class Variable: Modified using ClassName.variable_name or cls.variable_name (inside class methods).\n",
        "Instance Variable: Modified using self.variable_name.\n",
        "Memory Usage:\n",
        "\n",
        "Class Variable: Stored once in memory and shared.\n",
        "Instance Variable: Each instance has its own copy, increasing memory usage.\n",
        "\n",
        "18. What is multiple inheritance in Python\n",
        "\n",
        "Multiple inheritance is a feature in Python where a class can inherit attributes and methods from more than one parent class. This allows a child class to have the properties and behaviors of multiple base classes.\n",
        "\n",
        "19. Explain the purpose of ‘’__str__’ and ‘__repr__’ ‘ methods in Python\n",
        "\n",
        "__str__ Method\n",
        "Used for a user-friendly (readable) representation of an object.\n",
        "Called when using str(object) or print(object).\n",
        "Meant for end-users and should return a readable string.\n",
        "\n",
        "__repr__ Method\n",
        "Used for a developer-friendly (precise) representation of an object.\n",
        "Called when using repr(object), in an interactive shell, or for debugging.\n",
        "Should return a string that can recreate the object using eval().\n",
        "\n",
        "\n",
        "20.  What is the significance of the ‘super()’ function in Python\n",
        "\n",
        "The super() function in Python is used to call methods from a parent (super) class inside a child class. It plays a crucial role in inheritance by allowing a child class to reuse and extend the behavior of its parent class without directly referring to the parent’s name.\n",
        "\n",
        "21. What is the significance of the __del__ method in Python\n",
        "\n",
        "The __del__ method, also known as the destructor, is a special dunder method in Python that is automatically called when an object is about to be destroyed (i.e., when it is no longer in use and garbage collected).\n",
        "\n",
        "22. What is the difference between @staticmethod and @classmethod in Python\n",
        "\n",
        "Both @staticmethod and @classmethod are decorators used to define methods that do not operate on an instance of the class, but they have distinct purposes and behaviors.\n",
        "\n",
        "1. @staticmethod (Static Method)\n",
        "A static method is a method that belongs to the class but does not have access to the instance (self) or the class (cls). It behaves like a regular function inside a class.\n",
        "\n",
        "Key Features:\n",
        "Does not take self or cls as its first parameter.\n",
        "Cannot modify instance attributes or class attributes.\n",
        "Used when a method is logically related to the class but does not require class-specific data.\n",
        "\n",
        "(Class Method)\n",
        "A class method takes cls as the first parameter, which refers to the class itself, not an instance. It can modify class-level attributes but not instance attributes.\n",
        "\n",
        "Key Features:\n",
        "Takes cls as the first parameter.\n",
        "Can modify class attributes, but not instance attributes.\n",
        "Used when a method needs to work with class-level data.\n",
        "\n",
        "23. How does polymorphism work in Python with inheritance\n",
        "\n",
        "Polymorphism in Python refers to the ability of different classes to be treated as if they were the same type through a common interface. This is especially useful in inheritance, where a child class can override methods of a parent class, allowing different objects to respond differently to the same method call.\n",
        "\n",
        "Method Overriding – A child class redefines a method from the parent class, providing its own implementation.\n",
        "Common Interface – Different classes can share the same method names, allowing them to be used interchangeably.\n",
        "Dynamic Method Resolution – Python determines at runtime which method to call, based on the object’s actual type.\n",
        "\n",
        "24.  What is method chaining in Python OOP\n",
        "\n",
        "Method chaining is a technique in Object-Oriented Programming (OOP) where multiple methods are called on the same object in a single statement, improving code readability and conciseness. Each method in the chain returns self (the current instance) to allow further method calls.\n",
        "\n",
        "25. What is the purpose of the __call__ method in Python\n",
        "\n",
        "The __call__ method in Python allows an instance of a class to be called like a function. This makes objects callable, meaning you can use object() syntax instead of explicitly calling a method.\n",
        "\n",
        "When an instance of a class has a __call__ method defined, calling the instance (object()) automatically invokes __call__.\n",
        "It allows objects to behave like functions while maintaining object-oriented principles.\n"
      ],
      "metadata": {
        "id": "tJ_QUEccGl0Y"
      }
    },
    {
      "cell_type": "code",
      "source": [
        "#1. Create a parent class Animal with a method speak() that prints a generic message. Create a child class Dog that overrides the speak() method to print \"Bark!\".\n",
        "\n",
        "# Parent class\n",
        "class Animal:\n",
        "    def speak(self):\n",
        "        print(\"This animal makes a sound.\")\n",
        "\n",
        "# Child class overriding the speak() method\n",
        "class Dog(Animal):\n",
        "    def speak(self):\n",
        "        print(\"Bark!\")\n",
        "\n",
        "# Creating objects\n",
        "animal = Animal()\n",
        "dog = Dog()\n",
        "\n",
        "# Calling the speak() method\n",
        "animal.speak()\n",
        "dog.speak()\n"
      ],
      "metadata": {
        "colab": {
          "base_uri": "https://localhost:8080/"
        },
        "id": "uuzH5sJkOxRC",
        "outputId": "7435a0c5-5a60-41dd-c4fe-a608a8fa34da"
      },
      "execution_count": 1,
      "outputs": [
        {
          "output_type": "stream",
          "name": "stdout",
          "text": [
            "This animal makes a sound.\n",
            "Bark!\n"
          ]
        }
      ]
    },
    {
      "cell_type": "code",
      "source": [
        "#2. Write a program to create an abstract class Shape with a method area(). Derive classes Circle and Rectangle from it and implement the area() method in both.\n",
        "\n",
        "from abc import ABC, abstractmethod\n",
        "\n",
        "# Abstract class\n",
        "class Shape(ABC):\n",
        "    @abstractmethod\n",
        "    def area(self):\n",
        "        pass  # Abstract method (must be implemented by subclasses)\n",
        "\n",
        "# Derived class: Circle\n",
        "class Circle(Shape):\n",
        "    def __init__(self, radius):\n",
        "        self.radius = radius\n",
        "\n",
        "    def area(self):\n",
        "        return 3.14 * self.radius ** 2  # Area of a circle\n",
        "\n",
        "# Derived class: Rectangle\n",
        "class Rectangle(Shape):\n",
        "    def __init__(self, length, width):\n",
        "        self.length = length\n",
        "        self.width = width\n",
        "\n",
        "    def area(self):\n",
        "        return self.length * self.width  # Area of a rectangle\n",
        "\n",
        "# Creating objects and calculating areas\n",
        "circle = Circle(5)\n",
        "rectangle = Rectangle(4, 6)\n",
        "\n",
        "print(f\"Circle Area: {circle.area()}\")\n",
        "print(f\"Rectangle Area: {rectangle.area()}\")\n"
      ],
      "metadata": {
        "colab": {
          "base_uri": "https://localhost:8080/"
        },
        "id": "SYkOidY-PAQp",
        "outputId": "8a9120be-b5b7-40da-a6c3-daec4d8c0a6d"
      },
      "execution_count": 2,
      "outputs": [
        {
          "output_type": "stream",
          "name": "stdout",
          "text": [
            "Circle Area: 78.5\n",
            "Rectangle Area: 24\n"
          ]
        }
      ]
    },
    {
      "cell_type": "code",
      "source": [
        "#3.  Implement a multi-level inheritance scenario where a class Vehicle has an attribute type. Derive a class Car and further derive a class ElectricCar that adds a battery attribute\n",
        "\n",
        "\n",
        "# Base class\n",
        "class Vehicle:\n",
        "    def __init__(self, vehicle_type):\n",
        "        self.vehicle_type = vehicle_type\n",
        "\n",
        "    def display_type(self):\n",
        "        print(f\"Vehicle Type: {self.vehicle_type}\")\n",
        "\n",
        "# Derived class from Vehicle\n",
        "class Car(Vehicle):\n",
        "    def __init__(self, brand, model, vehicle_type=\"Car\"):\n",
        "        super().__init__(vehicle_type)  # Inheriting from Vehicle\n",
        "        self.brand = brand\n",
        "        self.model = model\n",
        "\n",
        "    def display_car_info(self):\n",
        "        print(f\"Car: {self.brand} {self.model}\")\n",
        "\n",
        "# Further derived class from Car\n",
        "class ElectricCar(Car):\n",
        "    def __init__(self, brand, model, battery_capacity):\n",
        "        super().__init__(brand, model)  # Inheriting from Car\n",
        "        self.battery_capacity = battery_capacity\n",
        "\n",
        "    def display_battery_info(self):\n",
        "        print(f\"Battery Capacity: {self.battery_capacity} kWh\")\n",
        "\n",
        "# Creating an object of ElectricCar\n",
        "tesla = ElectricCar(\"Tesla\", \"Model S\", 100)\n",
        "\n",
        "# Displaying information\n",
        "tesla.display_type()\n",
        "tesla.display_car_info()\n",
        "tesla.display_battery_info()\n"
      ],
      "metadata": {
        "colab": {
          "base_uri": "https://localhost:8080/"
        },
        "id": "zZ5Qwn2uPgXS",
        "outputId": "0738b9c6-48c2-40c6-e3b6-a6de14deef54"
      },
      "execution_count": 3,
      "outputs": [
        {
          "output_type": "stream",
          "name": "stdout",
          "text": [
            "Vehicle Type: Car\n",
            "Car: Tesla Model S\n",
            "Battery Capacity: 100 kWh\n"
          ]
        }
      ]
    },
    {
      "cell_type": "code",
      "source": [
        "#4. Demonstrate polymorphism by creating a base class Bird with a method fly(). Create two derived classes Sparrow and Penguin that override the fly() method.\n",
        "\n",
        "# Base class\n",
        "class Bird:\n",
        "    def fly(self):\n",
        "        print(\"Some birds can fly.\")\n",
        "\n",
        "# Derived class: Sparrow\n",
        "class Sparrow(Bird):\n",
        "    def fly(self):\n",
        "        print(\"Sparrow flies high in the sky.\")\n",
        "\n",
        "# Derived class: Penguin\n",
        "class Penguin(Bird):\n",
        "    def fly(self):\n",
        "        print(\"Penguins cannot fly, they swim instead.\")\n",
        "\n",
        "# Function demonstrating polymorphism\n",
        "def show_flight_ability(bird):\n",
        "    bird.fly()\n",
        "\n",
        "# Creating objects\n",
        "sparrow = Sparrow()\n",
        "penguin = Penguin()\n",
        "\n",
        "# Calling the function with different objects\n",
        "show_flight_ability(sparrow)\n",
        "show_flight_ability(penguin)\n",
        "\n",
        "\n"
      ],
      "metadata": {
        "colab": {
          "base_uri": "https://localhost:8080/"
        },
        "id": "gIyGA7RsQGFA",
        "outputId": "8586c982-1cb4-40b9-9b8a-7f7172629346"
      },
      "execution_count": 4,
      "outputs": [
        {
          "output_type": "stream",
          "name": "stdout",
          "text": [
            "Sparrow flies high in the sky.\n",
            "Penguins cannot fly, they swim instead.\n"
          ]
        }
      ]
    },
    {
      "cell_type": "code",
      "source": [
        "#5. Write a program to demonstrate encapsulation by creating a class BankAccount with private attributes balance and methods to deposit, withdraw, and check balance.\n",
        "\n",
        "class BankAccount:\n",
        "    def __init__(self, initial_balance):\n",
        "        self.__balance = initial_balance  # Private attribute\n",
        "\n",
        "    def deposit(self, amount):\n",
        "        if amount > 0:\n",
        "            self.__balance += amount\n",
        "            print(f\"Deposited: ₹{amount}\")\n",
        "        else:\n",
        "            print(\"Deposit amount must be positive.\")\n",
        "\n",
        "    def withdraw(self, amount):\n",
        "        if 0 < amount <= self.__balance:\n",
        "            self.__balance -= amount\n",
        "            print(f\"Withdrawn: ₹{amount}\")\n",
        "        else:\n",
        "            print(\"Insufficient balance or invalid amount.\")\n",
        "\n",
        "    def check_balance(self):\n",
        "        print(f\"Current Balance: ₹{self.__balance}\")\n",
        "\n",
        "# Creating an account with ₹5000 initial balance\n",
        "account = BankAccount(5000)\n",
        "\n",
        "# Performing operations\n",
        "account.deposit(2000)   # Output: Deposited: ₹2000\n",
        "account.withdraw(1500)  # Output: Withdrawn: ₹1500\n",
        "account.check_balance() # Output: Current Balance: ₹5500\n",
        "\n",
        "# Attempting to access private attribute (will cause an error)\n",
        "# print(account.__balance)  # AttributeError: 'BankAccount' object has no attribute '__balance'\n",
        "\n"
      ],
      "metadata": {
        "colab": {
          "base_uri": "https://localhost:8080/"
        },
        "id": "3_s5M92UQk4j",
        "outputId": "c9544623-cfa5-40d2-c517-ac534f2af654"
      },
      "execution_count": 5,
      "outputs": [
        {
          "output_type": "stream",
          "name": "stdout",
          "text": [
            "Deposited: ₹2000\n",
            "Withdrawn: ₹1500\n",
            "Current Balance: ₹5500\n"
          ]
        }
      ]
    },
    {
      "cell_type": "code",
      "source": [
        "#6. Demonstrate runtime polymorphism using a method play() in a base class Instrument. Derive classes Guitar and Piano that implement their own version of play()\n",
        "\n",
        "# Base class\n",
        "class Instrument:\n",
        "    def play(self):\n",
        "        print(\"Playing an instrument.\")\n",
        "\n",
        "# Derived class: Guitar\n",
        "class Guitar(Instrument):\n",
        "    def play(self):\n",
        "        print(\"Strumming the guitar 🎸.\")\n",
        "\n",
        "# Derived class: Piano\n",
        "class Piano(Instrument):\n",
        "    def play(self):\n",
        "        print(\"Playing the piano 🎹.\")\n",
        "\n",
        "# Function to demonstrate polymorphism\n",
        "def perform_music(instrument):\n",
        "    instrument.play()\n",
        "\n",
        "# Creating objects\n",
        "guitar = Guitar()\n",
        "piano = Piano()\n",
        "\n",
        "# Calling the function with different objects\n",
        "perform_music(guitar)\n",
        "perform_music(piano)\n"
      ],
      "metadata": {
        "colab": {
          "base_uri": "https://localhost:8080/"
        },
        "id": "iqliNMLGRAj4",
        "outputId": "cbb59051-fed7-4afe-f83d-8e270246d76e"
      },
      "execution_count": 6,
      "outputs": [
        {
          "output_type": "stream",
          "name": "stdout",
          "text": [
            "Strumming the guitar 🎸.\n",
            "Playing the piano 🎹.\n"
          ]
        }
      ]
    },
    {
      "cell_type": "code",
      "source": [
        "#7. Create a class MathOperations with a class method add_numbers() to add two numbers and a static method subtract_numbers() to subtract two numbers.\n",
        "\n",
        "\n",
        "class MathOperations:\n",
        "    # Class method to add two numbers\n",
        "    @classmethod\n",
        "    def add_numbers(cls, a, b):\n",
        "        return a + b\n",
        "\n",
        "    # Static method to subtract two numbers\n",
        "    @staticmethod\n",
        "    def subtract_numbers(a, b):\n",
        "        return a - b\n",
        "\n",
        "# Using the class method\n",
        "sum_result = MathOperations.add_numbers(10, 5)\n",
        "print(f\"Sum: {sum_result}\")  # Output: Sum: 15\n",
        "\n",
        "# Using the static method\n",
        "diff_result = MathOperations.subtract_numbers(10, 5)\n",
        "print(f\"Difference: {diff_result}\")\n"
      ],
      "metadata": {
        "colab": {
          "base_uri": "https://localhost:8080/"
        },
        "id": "aCf8u106TalJ",
        "outputId": "e7df8e06-b8c4-46aa-a791-b218aeec44ed"
      },
      "execution_count": 7,
      "outputs": [
        {
          "output_type": "stream",
          "name": "stdout",
          "text": [
            "Sum: 15\n",
            "Difference: 5\n"
          ]
        }
      ]
    },
    {
      "cell_type": "code",
      "source": [
        "#8.Implement a class Person with a class method to count the total number of persons created.\n",
        "\n",
        "class Person:\n",
        "    count = 0  # Class variable to keep track of the number of instances\n",
        "\n",
        "    def __init__(self, name):\n",
        "        self.name = name\n",
        "        Person.count += 1  # Increment the count when a new object is created\n",
        "\n",
        "    @classmethod\n",
        "    def total_persons(cls):\n",
        "        return f\"Total persons created: {cls.count}\"\n",
        "\n",
        "# Creating instances of Person\n",
        "p1 = Person(\"Alice\")\n",
        "p2 = Person(\"Bob\")\n",
        "p3 = Person(\"Charlie\")\n",
        "\n",
        "# Calling the class method to get the total count\n",
        "print(Person.total_persons())\n"
      ],
      "metadata": {
        "colab": {
          "base_uri": "https://localhost:8080/"
        },
        "id": "SfIkJl9oTva4",
        "outputId": "0a91dbe6-c69c-4333-be2f-f40ed9060036"
      },
      "execution_count": 8,
      "outputs": [
        {
          "output_type": "stream",
          "name": "stdout",
          "text": [
            "Total persons created: 3\n"
          ]
        }
      ]
    },
    {
      "cell_type": "code",
      "source": [
        "#9. Write a class Fraction with attributes numerator and denominator. Override the str method to display the fraction as \"numerator/denominator\".\n",
        "\n",
        "class Fraction:\n",
        "    def __init__(self, numerator, denominator):\n",
        "        if denominator == 0:\n",
        "            raise ValueError(\"Denominator cannot be zero.\")\n",
        "        self.numerator = numerator\n",
        "        self.denominator = denominator\n",
        "\n",
        "    def __str__(self):\n",
        "        return f\"{self.numerator}/{self.denominator}\"\n",
        "\n",
        "# Creating fraction objects\n",
        "frac1 = Fraction(3, 4)\n",
        "frac2 = Fraction(5, 8)\n",
        "\n",
        "# Printing the fractions (calls __str__ method)\n",
        "print(frac1)\n",
        "print(frac2)\n",
        "\n",
        "\n"
      ],
      "metadata": {
        "colab": {
          "base_uri": "https://localhost:8080/"
        },
        "id": "zfLf4kY2T-0P",
        "outputId": "1a20ff77-bfc9-4025-88b8-f1adff4e3c8c"
      },
      "execution_count": 9,
      "outputs": [
        {
          "output_type": "stream",
          "name": "stdout",
          "text": [
            "3/4\n",
            "5/8\n"
          ]
        }
      ]
    },
    {
      "cell_type": "code",
      "source": [
        "#10. Demonstrate operator overloading by creating a class Vector and overriding the add method to add two vectors.\n",
        "\n",
        "class Vector:\n",
        "    def __init__(self, x, y):\n",
        "        self.x = x\n",
        "        self.y = y\n",
        "\n",
        "    def __add__(self, other):\n",
        "        if isinstance(other, Vector):  # Ensure addition is between two Vector objects\n",
        "            return Vector(self.x + other.x, self.y + other.y)\n",
        "        raise TypeError(\"Addition is only supported between two Vector objects\")\n",
        "\n",
        "    def __str__(self):\n",
        "        return f\"({self.x}, {self.y})\"\n",
        "\n",
        "# Creating vector objects\n",
        "v1 = Vector(2, 3)\n",
        "v2 = Vector(4, 5)\n",
        "\n",
        "# Adding two vectors using the overloaded + operator\n",
        "v3 = v1 + v2\n",
        "\n",
        "# Printing the result\n",
        "print(v3)\n"
      ],
      "metadata": {
        "colab": {
          "base_uri": "https://localhost:8080/"
        },
        "id": "HmTIqu7BUWfo",
        "outputId": "6e26babd-85fb-426d-f8b4-7271fabd09ef"
      },
      "execution_count": 10,
      "outputs": [
        {
          "output_type": "stream",
          "name": "stdout",
          "text": [
            "(6, 8)\n"
          ]
        }
      ]
    },
    {
      "cell_type": "code",
      "source": [
        "#11. Create a class Person with attributes name and age. Add a method greet() that prints \"Hello, my name is {name} and I am {age} years old.\n",
        "\n",
        "class Person:\n",
        "    def __init__(self, name, age):\n",
        "        self.name = name\n",
        "        self.age = age\n",
        "\n",
        "    def greet(self):\n",
        "        print(f\"Hello, my name is {self.name} and I am {self.age} years old.\")\n",
        "\n",
        "# Creating instances of Person\n",
        "p1 = Person(\"Alice\", 25)\n",
        "p2 = Person(\"Bob\", 30)\n",
        "\n",
        "# Calling the greet method\n",
        "p1.greet()\n",
        "p2.greet()"
      ],
      "metadata": {
        "colab": {
          "base_uri": "https://localhost:8080/"
        },
        "id": "NhsesbHPUnhF",
        "outputId": "c3393ad5-78f9-4a9b-ea16-bc5172961e1e"
      },
      "execution_count": 11,
      "outputs": [
        {
          "output_type": "stream",
          "name": "stdout",
          "text": [
            "Hello, my name is Alice and I am 25 years old.\n",
            "Hello, my name is Bob and I am 30 years old.\n"
          ]
        }
      ]
    },
    {
      "cell_type": "code",
      "source": [
        "#12.  Implement a class Student with attributes name and grades. Create a method average_grade() to compute the average of the grades.\n",
        "\n",
        "class Student:\n",
        "    def __init__(self, name, grades):\n",
        "        self.name = name\n",
        "        self.grades = grades  # List of grades\n",
        "\n",
        "    def average_grade(self):\n",
        "        if not self.grades:\n",
        "            return 0  # Return 0 if there are no grades to avoid division by zero\n",
        "        return sum(self.grades) / len(self.grades)\n",
        "\n",
        "# Creating Student objects\n",
        "s1 = Student(\"Alice\", [85, 90, 78, 92])\n",
        "s2 = Student(\"Bob\", [76, 88, 80, 95])\n",
        "\n",
        "# Computing and printing average grades\n",
        "print(f\"{s1.name}'s average grade: {s1.average_grade():.2f}\")\n",
        "print(f\"{s2.name}'s average grade: {s2.average_grade():.2f}\")"
      ],
      "metadata": {
        "colab": {
          "base_uri": "https://localhost:8080/"
        },
        "id": "nRH6y5nJU79_",
        "outputId": "5065d5e4-4ea7-4edf-9057-15a7bd26b9c3"
      },
      "execution_count": 14,
      "outputs": [
        {
          "output_type": "stream",
          "name": "stdout",
          "text": [
            "Alice's average grade: 86.25\n",
            "Bob's average grade: 84.75\n"
          ]
        }
      ]
    },
    {
      "cell_type": "code",
      "source": [
        "#13. Create a class Rectangle with methods set_dimensions() to set the dimensions and area() to calculate the area.\n",
        "\n",
        "class Rectangle:\n",
        "    def __init__(self, length=0, width=0):\n",
        "        self.length = length\n",
        "        self.width = width\n",
        "\n",
        "    def set_dimensions(self, length, width):\n",
        "        \"\"\"Sets the dimensions of the rectangle.\"\"\"\n",
        "        self.length = length\n",
        "        self.width = width\n",
        "\n",
        "    def area(self):\n",
        "        \"\"\"Calculates and returns the area of the rectangle.\"\"\"\n",
        "        return self.length * self.width\n",
        "\n",
        "# Creating a Rectangle object\n",
        "rect = Rectangle()\n",
        "\n",
        "# Setting dimensions\n",
        "rect.set_dimensions(10, 5)\n",
        "\n",
        "# Calculating and printing the area\n",
        "print(f\"Area of the rectangle: {rect.area()}\")\n"
      ],
      "metadata": {
        "colab": {
          "base_uri": "https://localhost:8080/"
        },
        "id": "w_l-xFtQVIi9",
        "outputId": "ae927f72-9b85-46fb-a876-63595f321635"
      },
      "execution_count": 15,
      "outputs": [
        {
          "output_type": "stream",
          "name": "stdout",
          "text": [
            "Area of the rectangle: 50\n"
          ]
        }
      ]
    },
    {
      "cell_type": "code",
      "source": [
        "#14.  Create a class Employee with a method calculate_salary() that computes the salary based on hours worked and hourly rate. Create a derived class Manager that adds a bonus to the salary.\n",
        "\n",
        "\n",
        "class Employee:\n",
        "    def __init__(self, name, hours_worked, hourly_rate):\n",
        "        self.name = name\n",
        "        self.hours_worked = hours_worked\n",
        "        self.hourly_rate = hourly_rate\n",
        "\n",
        "    def calculate_salary(self):\n",
        "        \"\"\"Calculates salary based on hours worked and hourly rate.\"\"\"\n",
        "        return self.hours_worked * self.hourly_rate\n",
        "\n",
        "class Manager(Employee):\n",
        "    def __init__(self, name, hours_worked, hourly_rate, bonus):\n",
        "        super().__init__(name, hours_worked, hourly_rate)\n",
        "        self.bonus = bonus\n",
        "\n",
        "    def calculate_salary(self):\n",
        "        \"\"\"Calculates salary including a bonus.\"\"\"\n",
        "        return super().calculate_salary() + self.bonus\n",
        "\n",
        "# Creating Employee and Manager objects\n",
        "emp = Employee(\"John\", 40, 20)\n",
        "mgr = Manager(\"Alice\", 45, 30, 500)\n",
        "\n",
        "# Calculating and printing salaries\n",
        "print(f\"{emp.name}'s Salary: ${emp.calculate_salary()}\")\n",
        "print(f\"{mgr.name}'s Salary: ${mgr.calculate_salary()}\")\n"
      ],
      "metadata": {
        "colab": {
          "base_uri": "https://localhost:8080/"
        },
        "id": "UFXnxrDOVn1N",
        "outputId": "5f540a25-dd90-48da-917a-1cb22174db52"
      },
      "execution_count": 16,
      "outputs": [
        {
          "output_type": "stream",
          "name": "stdout",
          "text": [
            "John's Salary: $800\n",
            "Alice's Salary: $1850\n"
          ]
        }
      ]
    },
    {
      "cell_type": "code",
      "source": [
        "#15. Create a class Product with attributes name, price, and quantity. Implement a method total_price() that calculates the total price of the product.\n",
        "\n",
        "class Product:\n",
        "    def __init__(self, name, price, quantity):\n",
        "        self.name = name\n",
        "        self.price = price\n",
        "        self.quantity = quantity\n",
        "\n",
        "    def total_price(self):\n",
        "        \"\"\"Calculates the total price of the product.\"\"\"\n",
        "        return self.price * self.quantity\n",
        "\n",
        "# Creating Product objects\n",
        "product1 = Product(\"Laptop\", 800, 2)\n",
        "product2 = Product(\"Smartphone\", 500, 3)\n",
        "\n",
        "# Calculating and printing total price\n",
        "print(f\"Total price of {product1.name}: ${product1.total_price()}\")\n",
        "print(f\"Total price of {product2.name}: ${product2.total_price()}\")"
      ],
      "metadata": {
        "colab": {
          "base_uri": "https://localhost:8080/"
        },
        "id": "XxhPdz-0Vx3X",
        "outputId": "ff07bca6-8092-4317-d76c-efd71995ce1e"
      },
      "execution_count": 17,
      "outputs": [
        {
          "output_type": "stream",
          "name": "stdout",
          "text": [
            "Total price of Laptop: $1600\n",
            "Total price of Smartphone: $1500\n"
          ]
        }
      ]
    },
    {
      "cell_type": "code",
      "source": [
        "#16. Create a class Animal with an abstract method sound(). Create two derived classes Cow and Sheep that implement the sound() method.\n",
        "\n",
        "from abc import ABC, abstractmethod\n",
        "\n",
        "class Animal(ABC):\n",
        "    @abstractmethod\n",
        "    def sound(self):\n",
        "        \"\"\"Abstract method to be implemented by subclasses\"\"\"\n",
        "        pass\n",
        "\n",
        "class Cow(Animal):\n",
        "    def sound(self):\n",
        "        return \"Moo!\"\n",
        "\n",
        "class Sheep(Animal):\n",
        "    def sound(self):\n",
        "        return \"Baa!\"\n",
        "\n",
        "# Creating objects of derived classes\n",
        "cow = Cow()\n",
        "sheep = Sheep()\n",
        "\n",
        "# Printing sounds of animals\n",
        "print(f\"Cow: {cow.sound()}\")\n",
        "print(f\"Sheep: {sheep.sound()}\")\n"
      ],
      "metadata": {
        "colab": {
          "base_uri": "https://localhost:8080/"
        },
        "id": "Yw77aEm7WGDF",
        "outputId": "633e19d6-882c-4b0c-97b3-5924d6db7d29"
      },
      "execution_count": 18,
      "outputs": [
        {
          "output_type": "stream",
          "name": "stdout",
          "text": [
            "Cow: Moo!\n",
            "Sheep: Baa!\n"
          ]
        }
      ]
    },
    {
      "cell_type": "code",
      "source": [
        "#17. Create a class Book with attributes title, author, and year_published. Add a method get_book_info() that returns a formatted string with the book's details.\n",
        "\n",
        "class Book:\n",
        "    def __init__(self, title, author, year_published):\n",
        "        self.title = title\n",
        "        self.author = author\n",
        "        self.year_published = year_published\n",
        "\n",
        "    def get_book_info(self):\n",
        "        \"\"\"Returns a formatted string with the book's details.\"\"\"\n",
        "        return f\"'{self.title}' by {self.author}, published in {self.year_published}.\"\n",
        "\n",
        "# Creating Book objects\n",
        "book1 = Book(\"To Kill a Mockingbird\", \"Harper Lee\", 1960)\n",
        "book2 = Book(\"1984\", \"George Orwell\", 1949)\n",
        "\n",
        "# Printing book details\n",
        "print(book1.get_book_info())\n",
        "print(book2.get_book_info())\n"
      ],
      "metadata": {
        "colab": {
          "base_uri": "https://localhost:8080/"
        },
        "id": "5Kjn4s9IWPVo",
        "outputId": "49aa2c99-52db-477a-86c7-0513a85c281a"
      },
      "execution_count": 19,
      "outputs": [
        {
          "output_type": "stream",
          "name": "stdout",
          "text": [
            "'To Kill a Mockingbird' by Harper Lee, published in 1960.\n",
            "'1984' by George Orwell, published in 1949.\n"
          ]
        }
      ]
    },
    {
      "cell_type": "code",
      "source": [
        "#18. Create a class House with attributes address and price. Create a derived class Mansion that adds an attribute number_of_rooms.\n",
        "\n",
        "class House:\n",
        "    def __init__(self, address, price):\n",
        "        self.address = address\n",
        "        self.price = price\n",
        "\n",
        "    def get_house_info(self):\n",
        "        \"\"\"Returns a formatted string with the house details.\"\"\"\n",
        "        return f\"Address: {self.address}, Price: ${self.price}\"\n",
        "\n",
        "class Mansion(House):\n",
        "    def __init__(self, address, price, number_of_rooms):\n",
        "        super().__init__(address, price)  # Calling the constructor of the parent class\n",
        "        self.number_of_rooms = number_of_rooms\n",
        "\n",
        "    def get_mansion_info(self):\n",
        "        \"\"\"Returns a formatted string with mansion details, including the number of rooms.\"\"\"\n",
        "        return f\"{self.get_house_info()}, Number of Rooms: {self.number_of_rooms}\"\n",
        "\n",
        "# Creating objects\n",
        "house1 = House(\"123 Main St\", 250000)\n",
        "mansion1 = Mansion(\"456 Luxury Ave\", 5000000, 10)\n",
        "\n",
        "# Printing details\n",
        "print(house1.get_house_info())\n",
        "print(mansion1.get_mansion_info())\n"
      ],
      "metadata": {
        "colab": {
          "base_uri": "https://localhost:8080/"
        },
        "id": "ow8hhBhDWlsl",
        "outputId": "8667706b-7ff6-46e0-b1d8-d0c538f4efe9"
      },
      "execution_count": 20,
      "outputs": [
        {
          "output_type": "stream",
          "name": "stdout",
          "text": [
            "Address: 123 Main St, Price: $250000\n",
            "Address: 456 Luxury Ave, Price: $5000000, Number of Rooms: 10\n"
          ]
        }
      ]
    },
    {
      "cell_type": "code",
      "source": [],
      "metadata": {
        "id": "qHgV8fegXGWr"
      },
      "execution_count": null,
      "outputs": []
    }
  ]
}